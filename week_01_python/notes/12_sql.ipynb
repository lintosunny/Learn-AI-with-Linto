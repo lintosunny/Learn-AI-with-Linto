{
 "cells": [
  {
   "cell_type": "markdown",
   "id": "dbad3ac1",
   "metadata": {},
   "source": [
    "# **Working with SQL**"
   ]
  },
  {
   "cell_type": "markdown",
   "id": "b4e39fe7",
   "metadata": {},
   "source": [
    "Python can interact with MySQL databases using libraries like mysql-connector-python or pymysql, which provide methods for connecting to the database, executing SQL queries, and handling transactions.\n"
   ]
  },
  {
   "cell_type": "code",
   "execution_count": null,
   "id": "75f76cb6",
   "metadata": {},
   "outputs": [],
   "source": [
    "# Connecting to MySQL Database\n",
    "@contextmanager\n",
    "def get_db_cursor(commit=False):\n",
    "    connection = mysql.connector.connect(\n",
    "        host=\"localhost\",\n",
    "        user=\"root\",\n",
    "        password=\"root\",\n",
    "        database=\"expense_manager\"\n",
    "    )\n",
    "\n",
    "    cursor = connection.cursor(dictionary=True)\n",
    "    yield cursor\n",
    "    if commit:\n",
    "        connection.commit()\n",
    "    cursor.close()\n",
    "    connection.close()\n",
    "\n",
    "\n",
    "# Fetching Expenses\n",
    "def fetch_expenses_for_date(expense_date):\n",
    "    logger.info(f\"fetch_expenses_for_date called with {expense_date}\")\n",
    "    with get_db_cursor() as cursor:\n",
    "        cursor.execute(\"SELECT * FROM expenses WHERE expense_date = %s\", (expense_date,))\n",
    "        expenses = cursor.fetchall()\n",
    "        return expenses"
   ]
  }
 ],
 "metadata": {
  "kernelspec": {
   "display_name": "env",
   "language": "python",
   "name": "python3"
  },
  "language_info": {
   "name": "python",
   "version": "3.10.18"
  }
 },
 "nbformat": 4,
 "nbformat_minor": 5
}

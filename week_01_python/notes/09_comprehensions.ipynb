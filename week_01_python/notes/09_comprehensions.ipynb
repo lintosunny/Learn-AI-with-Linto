{
 "cells": [
  {
   "cell_type": "markdown",
   "id": "ebd7abc4",
   "metadata": {},
   "source": [
    "# **List, Dict, Set Comprehensions**"
   ]
  },
  {
   "cell_type": "markdown",
   "id": "e921e333",
   "metadata": {},
   "source": [
    "* Comprehensions are generally more readable and faster than using loops for building collections, making them a preferred choice for such tasks in Python.\n",
    "\n",
    "* All comprehensions can include conditionals to filter elements, providing a powerful tool for creating customized collections efficiently."
   ]
  },
  {
   "cell_type": "markdown",
   "id": "1543c752",
   "metadata": {},
   "source": [
    "## **List Comprehension**"
   ]
  },
  {
   "cell_type": "markdown",
   "id": "15263733",
   "metadata": {},
   "source": [
    "* List comprehensions provide a concise way to create lists by running a for loop in a single-line."
   ]
  },
  {
   "cell_type": "code",
   "execution_count": 1,
   "id": "73c90fb4",
   "metadata": {},
   "outputs": [
    {
     "data": {
      "text/plain": [
       "[71, 74, 71, 73, 72, 71, 74, 72]"
      ]
     },
     "execution_count": 1,
     "metadata": {},
     "output_type": "execute_result"
    }
   ],
   "source": [
    "daily_temperatures = [68, 71, 74, 69, 70, 71, 68, 73, 72, 71, 70, 74, 72, 68]\n",
    "\n",
    "# Filter temperatures above 70 using list comprehension\n",
    "filtered_temperatures = [temp for temp in daily_temperatures if temp > 70]\n",
    "\n",
    "# Output\n",
    "filtered_temperatures"
   ]
  },
  {
   "cell_type": "markdown",
   "id": "b2a22fb0",
   "metadata": {},
   "source": [
    "## **Set Comprehension**"
   ]
  },
  {
   "cell_type": "markdown",
   "id": "7d6c8091",
   "metadata": {},
   "source": [
    "* Set comprehensions work similarly to list comprehensions but produce a set, automatically removing duplicate elements during creation."
   ]
  },
  {
   "cell_type": "code",
   "execution_count": 2,
   "id": "0feb41f5",
   "metadata": {},
   "outputs": [
    {
     "data": {
      "text/plain": [
       "{71, 72, 73, 74}"
      ]
     },
     "execution_count": 2,
     "metadata": {},
     "output_type": "execute_result"
    }
   ],
   "source": [
    "# Find unique temperatures using set comprehension\n",
    "unique_temperatures = {temp for temp in filtered_temperatures}\n",
    "\n",
    "# Output\n",
    "unique_temperatures"
   ]
  },
  {
   "cell_type": "markdown",
   "id": "88c838b0",
   "metadata": {},
   "source": [
    "## **Dictionary Comprehension**"
   ]
  },
  {
   "cell_type": "markdown",
   "id": "47ee39a7",
   "metadata": {},
   "source": [
    "* Dictionary comprehensions allow for the dynamic construction of dictionaries by running a for loop in a single line."
   ]
  },
  {
   "cell_type": "code",
   "execution_count": 3,
   "id": "6873a117",
   "metadata": {},
   "outputs": [
    {
     "data": {
      "text/plain": [
       "{72: 2, 73: 1, 74: 2, 71: 3}"
      ]
     },
     "execution_count": 3,
     "metadata": {},
     "output_type": "execute_result"
    }
   ],
   "source": [
    "# Find the count of each unique temperature\n",
    "temperature_count = {temp: filtered_temperatures.count(temp) for temp in unique_temperatures}\n",
    "\n",
    "# Output\n",
    "temperature_count"
   ]
  }
 ],
 "metadata": {
  "kernelspec": {
   "display_name": "env",
   "language": "python",
   "name": "python3"
  },
  "language_info": {
   "codemirror_mode": {
    "name": "ipython",
    "version": 3
   },
   "file_extension": ".py",
   "mimetype": "text/x-python",
   "name": "python",
   "nbconvert_exporter": "python",
   "pygments_lexer": "ipython3",
   "version": "3.10.18"
  }
 },
 "nbformat": 4,
 "nbformat_minor": 5
}

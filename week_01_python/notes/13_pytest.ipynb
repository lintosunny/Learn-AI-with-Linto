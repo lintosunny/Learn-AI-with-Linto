{
 "cells": [
  {
   "cell_type": "markdown",
   "id": "8221d0e5",
   "metadata": {},
   "source": [
    "# **Pytest**"
   ]
  },
  {
   "cell_type": "markdown",
   "id": "5a7d4014",
   "metadata": {},
   "source": [
    "* pytest is a powerful testing framework for Python that allows for writing simple test cases while also supporting complex functional testing for applications.\n",
    "\n",
    "* In pytest, ```assert``` is used to check if a condition is true during a test. If the assertion fails (i.e., the condition is false), the test fails, and pytest shows a helpful error message."
   ]
  },
  {
   "cell_type": "code",
   "execution_count": null,
   "id": "5bf279a2",
   "metadata": {},
   "outputs": [],
   "source": [
    "def test_add_stock():\n",
    "    inv = Inventory()\n",
    "    inv.add_stock(\"widget\", 5)\n",
    "    assert inv.stock[\"widget\"] == 5\n",
    "    inv.add_stock(\"widget\", 3)\n",
    "    assert inv.stock[\"widget\"] == 8"
   ]
  }
 ],
 "metadata": {
  "kernelspec": {
   "display_name": "env",
   "language": "python",
   "name": "python3"
  },
  "language_info": {
   "name": "python",
   "version": "3.10.18"
  }
 },
 "nbformat": 4,
 "nbformat_minor": 5
}

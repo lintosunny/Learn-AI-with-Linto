{
 "cells": [
  {
   "cell_type": "markdown",
   "id": "e595a9d1",
   "metadata": {},
   "source": [
    "# **Working with JSON**"
   ]
  },
  {
   "cell_type": "markdown",
   "id": "e84e400a",
   "metadata": {},
   "source": [
    "JSON (JavaScript Object Notation) is a lightweight data format widely used for data exchange between servers and web applications."
   ]
  },
  {
   "cell_type": "code",
   "execution_count": null,
   "id": "16b74150",
   "metadata": {},
   "outputs": [],
   "source": [
    "import json\n",
    "\n",
    "# Load JSON data from a file\n",
    "with open('sales_data.json', 'r') as file:\n",
    "    sales_data = json.load(file)\n",
    "\n",
    "# Aggregate sales data by category\n",
    "category_sales = {}\n",
    "for item in sales_data:\n",
    "    category = item['category']\n",
    "    total_sale = item['quantity'] * item['price_per_unit']\n",
    "    if category in category_sales:\n",
    "        category_sales[category] += total_sale\n",
    "    else:\n",
    "        category_sales[category] = total_sale"
   ]
  }
 ],
 "metadata": {
  "kernelspec": {
   "display_name": "env",
   "language": "python",
   "name": "python3"
  },
  "language_info": {
   "name": "python",
   "version": "3.10.18"
  }
 },
 "nbformat": 4,
 "nbformat_minor": 5
}

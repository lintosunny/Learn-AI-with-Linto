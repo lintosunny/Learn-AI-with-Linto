{
 "cells": [
  {
   "cell_type": "markdown",
   "id": "56fbba1c",
   "metadata": {},
   "source": [
    "# **Generators**"
   ]
  },
  {
   "cell_type": "markdown",
   "id": "ca68b81e",
   "metadata": {},
   "source": [
    "* Generators in Python are a simple way to create iterators using functions that yield values instead of returning a single value.\n",
    "\n",
    "* The ```yield``` statement is used in a function to turn it into a generator, suspending the function’s state until the next value is needed.\n",
    "\n",
    "* Generators help in managing memory efficiently by yielding items one at a time, only holding one item in memory, unlike lists which store all elements.\n",
    "\n",
    "* Iterators are objects that implement the __iter__() and __next__() methods, which allow Python to iterate over collections of items, such\n",
    "as in a for loop.\n"
   ]
  },
  {
   "cell_type": "code",
   "execution_count": null,
   "id": "7acf2e31",
   "metadata": {},
   "outputs": [],
   "source": [
    "def read_and_filter_temperatures(filename, threshold):\n",
    "    \"\"\"Generator function to read and filter temperatures from a file.\"\"\"\n",
    "    with open(filename, 'r') as file:\n",
    "        for line in file:\n",
    "            parts = line.strip().split(',')\n",
    "            temp = float(parts[1])\n",
    "            if temp > threshold:\n",
    "                yield temp\n",
    "\n",
    "# Usage of the generator\n",
    "filename = 'sensor_data.txt'\n",
    "threshold = 20.0\n",
    "filtered_temperatures = read_and_filter_temperatures(filename, threshold)\n",
    "\n",
    "# Print the filtered temperatures\n",
    "print(\"Filtered Temperatures (Above 20.0°C):\")\n",
    "for temperature in filtered_temperatures:\n",
    "    print(f\"{temperature}°C\")"
   ]
  }
 ],
 "metadata": {
  "kernelspec": {
   "display_name": "env",
   "language": "python",
   "name": "python3"
  },
  "language_info": {
   "name": "python",
   "version": "3.10.18"
  }
 },
 "nbformat": 4,
 "nbformat_minor": 5
}

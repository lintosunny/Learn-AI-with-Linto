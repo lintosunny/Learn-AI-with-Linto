{
 "cells": [
  {
   "cell_type": "markdown",
   "id": "92ee468c",
   "metadata": {},
   "source": [
    "# **Pep8 Naming Convention**"
   ]
  },
  {
   "cell_type": "markdown",
   "id": "7e1ed2fb",
   "metadata": {},
   "source": [
    "* PEP 8 specifies naming conventions that enhance code readability\n",
    "\n",
    "* Adhering to PEP 8 naming conventions is considered a best practice in Python development.\n",
    "\n",
    "* Often enforced in professional coding environments through code reviews and linters."
   ]
  },
  {
   "cell_type": "markdown",
   "id": "00549693",
   "metadata": {},
   "source": [
    "| Element Type         | Case Type                  | Example               |\n",
    "|----------------------|----------------------------|-----------------------|\n",
    "| Class                | CamelCase                  | `MyClass`             |\n",
    "| Function             | lowercase_with_underscores | `my_function()`       |\n",
    "| Variable             | lowercase_with_underscores | `my_variable`         |\n",
    "| Constant             | ALL_CAPS                   | `MAX_RETRIES`         |\n",
    "| Module               | lowercase_with_underscores | `my_module.py`        |\n",
    "| Package              | lowercase                  | `mypackage`           |\n",
    "| Exception            | CamelCase                  | `MyCustomError`       |\n",
    "| Global (internal)    | _single_leading_underscore | `_internal_var`       |\n"
   ]
  }
 ],
 "metadata": {
  "kernelspec": {
   "display_name": "env",
   "language": "python",
   "name": "python3"
  },
  "language_info": {
   "codemirror_mode": {
    "name": "ipython",
    "version": 3
   },
   "file_extension": ".py",
   "mimetype": "text/x-python",
   "name": "python",
   "nbconvert_exporter": "python",
   "pygments_lexer": "ipython3",
   "version": "3.10.18"
  }
 },
 "nbformat": 4,
 "nbformat_minor": 5
}

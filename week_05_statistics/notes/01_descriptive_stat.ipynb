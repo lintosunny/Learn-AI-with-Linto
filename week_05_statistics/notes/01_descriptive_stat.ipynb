{
  "nbformat": 4,
  "nbformat_minor": 0,
  "metadata": {
    "colab": {
      "provenance": []
    },
    "kernelspec": {
      "name": "python3",
      "display_name": "Python 3"
    },
    "language_info": {
      "name": "python"
    }
  },
  "cells": [
    {
      "cell_type": "markdown",
      "source": [
        "# **Descriptive Statistics**"
      ],
      "metadata": {
        "id": "WnY6CP6JUvD4"
      }
    },
    {
      "cell_type": "markdown",
      "source": [
        "What is statistics?\n",
        "Statistics is the science of collecting, organizing, and analyzing data\n",
        "Data: Facts or pieces of information\n",
        "\n",
        "Descriptive Statistics: Consist of organizing, summarizing, and visualizing data\n",
        "\n"
      ],
      "metadata": {
        "id": "ztQq4GbxYhli"
      }
    },
    {
      "cell_type": "markdown",
      "source": [
        "## **Sampling**\n",
        "\n",
        "Population: The group of people or things that need to be examined is referred to as a \"population.\"\n",
        "\n",
        "Sample: Subset of a population, that is highly representative of the entire population is taken into consideration for study.\n",
        "Sampling is the term for data collection technique\n",
        "\n",
        "why sampling?\n",
        "\n",
        "\n",
        "*   Surveying everyone is not cost effective\n",
        "*   Using sampling, one can produce information faster that enables timely decision making\n",
        "*   Lesser data collection errors\n",
        "*   Practical method for destructive tests like durability of machine\n",
        "\n",
        "A parameter is a value that must be accuratly calculated using statistics from one or more samples, and is typically unknown. Parameter is linked to population, which is typically unknowable. Statistic linked to sample, hence known.\n",
        "<br>\n",
        "<br>\n",
        "<br>\n",
        "<img src=https://www.zabanga.us/fashion-marketing/images/1794_83_24-types-sampling-methods.jpg alt=\"Nature Image\" width=\"500\"/>\n",
        "\n",
        "\n",
        "Probability sampling uses random selection to generate a\n",
        "sample\n",
        ". Non-probability sampling is often based on convenience, or the personal preferences of the researcher, rather than random selection.\n",
        "\n",
        "In a simple random sample, every member of a population is selected randomly and has an equal chance of being chosen.\n",
        "\n",
        "In a stratified random sample,you divide a population into groups, and randomly select some members from each group to be in the sample. These groups are called strata. Strata can be organized by age, gender, income, or whatever category you’re interested in studying.\n",
        "\n",
        "When you’re conducting a cluster random sample, you divide a population into clusters, randomly select certain clusters, and include all members from the chosen clusters in the sample.\n",
        "Cluster sampling is similar to stratified random sampling, but in stratified sampling, you randomly choose some members from each group to be in the sample. In cluster sampling,  you choose all members from a group to be in the sample. Clusters are divided using identifying details, such as age, gender, location, or whatever you want to study.\n",
        "\n",
        "In a systematic random sample, you put every member of a population into an ordered sequence. Then, you choose a random starting point in the sequence and select members for your sample at regular intervals.\n",
        "\n",
        "Non-probability samples use non-random methods of selection, so not all members of a population have an equal chance of being selected. This is why non-probability methods have a high risk of sampling bias. However, non-probability methods are often less expensive and more convenient for researchers to conduct.\n",
        "\n",
        "For convenience sampling, you choose members of a population that are easy to contact or reach. As the name suggests, conducting a convenience sample involves collecting a sample from somewhere convenient to you, such as your workplace, a local school, or a public park.\n",
        "\n",
        "A voluntary response sample consists of members of a population who volunteer to participate in a study. Like a convenience sample, a voluntary response sample is often based on convenient access to a population. However, instead of the researcher selecting participants, participants volunteer on their own.\n",
        "\n",
        "In a snowball sample,researchers recruit initial participants to be in a study and then ask them to recruit other people to participate in the study. Like a snowball, the sample size gets bigger and bigger as more participants join in. Researchers often use snowball sampling when the population they want to study is difficult to access.\n",
        "\n",
        "In purposive sampling, researchers select participants based on the purpose of their study. Because participants are selected for the sample according to the needs of the study, applicants who do not fit the profile are rejected.\n",
        "\n",
        "\n",
        "\n",
        "The sampling process\n",
        "First, let’s review the main steps of the sampling process:\n",
        "\n",
        "1. Identify the target population\n",
        "\n",
        "2. Select the sampling frame\n",
        "\n",
        "3. Choose the sampling method\n",
        "\n",
        "4. Determine the sample size\n",
        "\n",
        "5. Collect the sample data\n"
      ],
      "metadata": {
        "id": "vAFRdhTb7Rkb"
      }
    },
    {
      "cell_type": "markdown",
      "source": [
        "## **Types of Data**"
      ],
      "metadata": {
        "id": "mQhioiWwnUdg"
      }
    },
    {
      "cell_type": "markdown",
      "source": [
        "\n",
        "\n",
        "\n",
        "\n",
        "<img src=https://oercollective.caul.edu.au/app/uploads/sites/58/2023/01/Figure_9.1-e1675206189966.jpg alt=\"Nature Image\" width=\"600\"/>\n",
        "\n",
        "\n",
        "\n",
        "**Nominal data** represents qualitative information without order. Order or rank does not matter. Eg: Gender, Types of schools, etc.\n",
        "\n",
        "**Ordinal data** represents qualitative information without order. rank and order matters. Eg: Grading system of A, B, C, D\n",
        "\n",
        "**Discrete Data**: This type of data has distinct, separate values and often comes in the form of whole numbers or counts. Examples include the number of students in a class or the number of cars in a parking lot.\n",
        "\n",
        "**Continuous Data**: This type of data can take any value within a given range and can be measured with great precision. Examples include height, weight, and temperature.\n",
        "\n",
        "<img src=https://d3mm2s9r15iqcv.cloudfront.net/en/wp-content/uploads/old-blog-uploads/four-levels-of-measurement-data-3.jpg alt=\"Nature Image\" width=\"600\"/>"
      ],
      "metadata": {
        "id": "tWxpb8Q-Zkzk"
      }
    },
    {
      "cell_type": "markdown",
      "source": [
        "## **Measures of Central Tendency or Measures of Location**"
      ],
      "metadata": {
        "id": "HE-ics-Vd5Fy"
      }
    },
    {
      "cell_type": "markdown",
      "source": [
        "A sizable portion of the observations in the sample tend to cluster around a single value. This is known as measures of central tendency\n",
        "\n",
        "Types:\n",
        "1. Mean\n",
        "2. Median\n",
        "3. Mode\n",
        "\n"
      ],
      "metadata": {
        "id": "0NwH-m_8d-bb"
      }
    },
    {
      "cell_type": "markdown",
      "source": [
        "### **Mean**\n",
        "The mean is the average value in a dataset. To calculate the mean, you add up all the values in your dataset and divide by the total number of values.\n",
        "\n",
        "For example, say you have the following set of values: 1, 2, 3\n",
        "\n",
        "The mean, or average value, is (1 + 2 +3)/3 = 2.\n",
        "\n"
      ],
      "metadata": {
        "id": "pzONOTrVfLWw"
      }
    },
    {
      "cell_type": "code",
      "execution_count": null,
      "metadata": {
        "colab": {
          "base_uri": "https://localhost:8080/"
        },
        "id": "GfOvNz91Urg1",
        "outputId": "29f97b6b-303a-4954-dbdd-d4f19a1eb937"
      },
      "outputs": [
        {
          "output_type": "stream",
          "name": "stdout",
          "text": [
            "Mean: 2.0\n"
          ]
        }
      ],
      "source": [
        "import numpy as np\n",
        "data = [1, 2, 3]\n",
        "mean = np.mean(data)\n",
        "print(f'Mean: {mean}')"
      ]
    },
    {
      "cell_type": "markdown",
      "source": [
        "### **Median**\n",
        "The median is the middle value in a dataset. You can find the median by arranging all the values in a dataset from smallest to largest.\n",
        "\n",
        "If dataset is 2, 3, 1 first rearrange data to 1, 2, 3 and then find the middle value. Here median is 2.\n",
        "\n",
        "If dataset has odd number of element find middle two values and take their average as median.\n"
      ],
      "metadata": {
        "id": "ylg3KLlYgDyk"
      }
    },
    {
      "cell_type": "code",
      "source": [
        "import numpy as np\n",
        "data = [3, 1, 2]\n",
        "median = np.median(data)\n",
        "print(f'Median: {median}')"
      ],
      "metadata": {
        "colab": {
          "base_uri": "https://localhost:8080/"
        },
        "id": "jmbgJjVJgCBQ",
        "outputId": "4111564b-624c-4180-e62c-36319b352e8f"
      },
      "execution_count": null,
      "outputs": [
        {
          "output_type": "stream",
          "name": "stdout",
          "text": [
            "Median: 2.0\n"
          ]
        }
      ]
    },
    {
      "cell_type": "markdown",
      "source": [
        "### **Mode**\n",
        "The mode is the most frequently-occurring value in a dataset. A dataset can have no mode, one mode, or more than one mode.\n",
        "\n",
        "For example, say you have the following set of values: 1, 2, 3, 3\n",
        "\n",
        "Mode of the dataset is 3"
      ],
      "metadata": {
        "id": "bBdC0F1-g-gL"
      }
    },
    {
      "cell_type": "code",
      "source": [
        "from scipy import stats\n",
        "data = [1, 2, 3, 3]\n",
        "mode = stats.mode(data)\n",
        "print(f'Mode: {mode}')"
      ],
      "metadata": {
        "colab": {
          "base_uri": "https://localhost:8080/"
        },
        "id": "qGh3fSEag7w1",
        "outputId": "8fab22e9-914d-42cc-8c93-e882e076feb9"
      },
      "execution_count": null,
      "outputs": [
        {
          "output_type": "stream",
          "name": "stdout",
          "text": [
            "Mode: ModeResult(mode=3, count=2)\n"
          ]
        }
      ]
    },
    {
      "cell_type": "markdown",
      "source": [
        "### **When to use Mean, Median, and Mode**\n",
        "\n",
        "*   Use the mean for symmetric, normally distributed data without outliers.\n",
        "*   Use the median when your data is skewed or contains outliers, or when dealing with ordinal data.\n",
        "*   Use the mode for categorical or nominal data, where you want to identify the most frequently occurring category."
      ],
      "metadata": {
        "id": "IWeaDyXvh2tS"
      }
    },
    {
      "cell_type": "markdown",
      "source": [
        "## **Measures of Dispersion**"
      ],
      "metadata": {
        "id": "je7uQ5Mnmpxg"
      }
    },
    {
      "cell_type": "markdown",
      "source": [
        "### **Range**\n",
        "\n",
        "The range is the difference between the largest and smallest value in a dataset."
      ],
      "metadata": {
        "id": "5IYNBhmD2zjS"
      }
    },
    {
      "cell_type": "code",
      "source": [
        "data = [1,2,3,4,5]\n",
        "range = max(data) - min(data)\n",
        "print(f'Range: {range}')"
      ],
      "metadata": {
        "colab": {
          "base_uri": "https://localhost:8080/"
        },
        "id": "-MAPKzs527eu",
        "outputId": "694ae3e4-0290-48ae-a0cb-ef2a058cf1ca"
      },
      "execution_count": null,
      "outputs": [
        {
          "output_type": "stream",
          "name": "stdout",
          "text": [
            "Range: 4\n"
          ]
        }
      ]
    },
    {
      "cell_type": "markdown",
      "source": [
        "### **Variance**\n",
        "\n",
        "Average of the squared difference of each data point from the mean. Basically, it’s the square of the standard deviation\n",
        "\n",
        "\n",
        "<img src=https://d138zd1ktt9iqe.cloudfront.net/media/seo_landing_files/variance-formula-1634129170.png alt=\"Nature Image\" width=\"400\"/>\n",
        "\n"
      ],
      "metadata": {
        "id": "M48ilR3YmtIF"
      }
    },
    {
      "cell_type": "code",
      "source": [
        "data = [1, 2, 3, 4, 5]\n",
        "population_variance = np.var(data)\n",
        "sample_variance = np.var(data, ddof=1)\n",
        "print(f'Population Variance: {population_variance}')\n",
        "print(f'Sample Variance: {sample_variance}')"
      ],
      "metadata": {
        "colab": {
          "base_uri": "https://localhost:8080/"
        },
        "id": "t6o09h_K3qax",
        "outputId": "00454410-ee33-463c-8b66-e33a5ea2f5a5"
      },
      "execution_count": null,
      "outputs": [
        {
          "output_type": "stream",
          "name": "stdout",
          "text": [
            "Population Variance: 2.0\n",
            "Sample Variance: 2.5\n"
          ]
        }
      ]
    },
    {
      "cell_type": "markdown",
      "source": [
        "### **Standard Deviation**\n",
        "\n",
        "Standard deviation measures how spread out your values are from the mean of your dataset. It calculates the typical distance of a data point from the mean.\n",
        "\n",
        "The larger the standard deviation, the more spread out your values are from the mean. The smaller the standard deviation, the less spread out your values are from the mean.\n",
        "\n",
        "square root of variance is standard deviation\n",
        "\n",
        "<img src=https://d138zd1ktt9iqe.cloudfront.net/media/seo_landing_files/standard-deviation-formula-1626765976.png alt=\"Nature Image\" width=\"400\"/>\n"
      ],
      "metadata": {
        "id": "qoB7U1I435tR"
      }
    },
    {
      "cell_type": "code",
      "source": [
        "data = [1, 2, 3, 4, 5]\n",
        "population_standard_deviation = np.std(data)\n",
        "sample_standard_deviation = np.std(data, ddof=1)\n",
        "print(f'Population Standard Deviation: {population_standard_deviation}')\n",
        "print(f'Sample Standard Deviation: {sample_standard_deviation}')"
      ],
      "metadata": {
        "colab": {
          "base_uri": "https://localhost:8080/"
        },
        "id": "1g9QI06f6NuM",
        "outputId": "e58f3da9-ef97-43ab-df09-bc6e021c79b2"
      },
      "execution_count": null,
      "outputs": [
        {
          "output_type": "stream",
          "name": "stdout",
          "text": [
            "Population Standard Deviation: 1.4142135623730951\n",
            "Sample Standard Deviation: 1.5811388300841898\n"
          ]
        }
      ]
    },
    {
      "cell_type": "markdown",
      "source": [
        "### **Coefficient of variation**"
      ],
      "metadata": {
        "id": "-m5827hhmdR9"
      }
    },
    {
      "cell_type": "markdown",
      "source": [
        "The Coefficient of Variation (CV) is not a direct measure of variance; instead, it is a measure of relative variability or dispersion in relation to the mean. The CV is expressed as a percentage and provides a standardized way to compare the spread of data sets with different units or scales."
      ],
      "metadata": {
        "id": "HD0-FY295pn1"
      }
    },
    {
      "cell_type": "code",
      "source": [],
      "metadata": {
        "id": "E4r5by68mm6p"
      },
      "execution_count": null,
      "outputs": []
    },
    {
      "cell_type": "markdown",
      "source": [
        "## **Measures of Position**"
      ],
      "metadata": {
        "id": "1E8HYXTxjF5C"
      }
    },
    {
      "cell_type": "markdown",
      "source": [
        "measures of position let you determine the position of a value in relation to other values in a dataset. Along with center and spread, it’s helpful to know the relative position of your values. For example, whether one value is higher or lower than another, or whether a value falls in the lower, middle, or upper portion of your dataset.\n",
        "\n",
        "Types:\n",
        "1. Percentile\n",
        "2. Quartile\n",
        "3. Deciles\n",
        "4. Inter Quartile Range\n",
        "5. 5 Number Summary"
      ],
      "metadata": {
        "id": "YRfnRy2cjJNn"
      }
    },
    {
      "cell_type": "markdown",
      "source": [
        "### **Percentile**\n",
        "A percentile is the value below which a percentage of data falls. Percentiles divide your data into 100 equal parts.\n",
        "\n",
        "For example, the score is higher than 99% of all test scores. If a score falls in the 75th percentile, the score is higher than 75% of all test scores."
      ],
      "metadata": {
        "id": "Zdjf-avhjngs"
      }
    },
    {
      "cell_type": "markdown",
      "source": [
        "### **Quartile**\n",
        "You can use quartiles to get a general understanding of the relative position of values. A quartile divides the values in a dataset into four equal parts.\n",
        "\n",
        "Three quartiles (25%, 50%, and 75%) divide the data into four quarters.\n"
      ],
      "metadata": {
        "id": "PUyFzOeGj7c4"
      }
    },
    {
      "cell_type": "markdown",
      "source": [
        "### **Decile**\n",
        "Divides the data into ten equal parts (e.g., D1, D2, ..., D9)"
      ],
      "metadata": {
        "id": "D4-CT9BUk8Kq"
      }
    },
    {
      "cell_type": "markdown",
      "source": [
        "### **Inter Quartile Range**\n",
        "The middle 50% of your data is called the interquartile range, or IQR. The interquartile range is the distance between the first quartile (Q1) and the third quartile (Q3). This is the same as the distance between the 25th and 75th percentiles. IQR is useful for determining the relative position of your data values. For instance, data values outside the interval Q1 - (1.5 * IQR) and Q3 + (1.5 * IQR) are often considered outliers.\n",
        "\n",
        "IQR = Q3 -Q1"
      ],
      "metadata": {
        "id": "6DxiWoq3lEgZ"
      }
    },
    {
      "cell_type": "markdown",
      "source": [
        "### **5 Number Summary**\n",
        "Finally, you can summarize the major divisions in your dataset with the five number summary. The five numbers include:\n",
        "\n",
        "The minimum\n",
        "\n",
        "The first quartile (Q1)\n",
        "\n",
        "The median, or second quartile (Q2)\n",
        "\n",
        "The third quartile (Q3)\n",
        "\n",
        "The maximum\n"
      ],
      "metadata": {
        "id": "FKRIW2R2lU1y"
      }
    },
    {
      "cell_type": "markdown",
      "source": [
        "## **Basic Bivariate Analysis**\n"
      ],
      "metadata": {
        "id": "lMIBME15iyBT"
      }
    },
    {
      "cell_type": "markdown",
      "source": [
        "### **Covariance**\n",
        "Covariance is a statistical measure that quantifies the degree to which two variables change together.\n",
        "\n",
        "Positive covariance indicates that the two variables tend to increase or decrease together.\n",
        "\n",
        "Negative covariance indicates that one variable tends to increase when the other decreases.\n",
        "\n",
        "Covariance does not provide a standardized measure, so it can be difficult to interpret in terms of the strength of the relationship.\n",
        "\n",
        "\n",
        "<img src=https://cdn.educba.com/academy/wp-content/uploads/2019/05/Covariance-Formula.jpg alt=\"Nature Image\" width=\"400\"/>\n"
      ],
      "metadata": {
        "id": "gLZtHlN8-jlX"
      }
    },
    {
      "cell_type": "code",
      "source": [
        "import numpy as np\n",
        "\n",
        "# Example data for two variables X and Y\n",
        "X = np.array([1, 2, 3, 4, 5])\n",
        "Y = np.array([5, 4, 3, 2, 1])\n",
        "\n",
        "# Calculate population covariance\n",
        "covariance_matrix_population = np.cov(X, Y, bias=True)\n",
        "cov_XY_population = covariance_matrix_population[0, 1]\n",
        "\n",
        "# Calculate sample covariance\n",
        "covariance_matrix_sample = np.cov(X, Y, bias=False)\n",
        "cov_XY_sample = covariance_matrix_sample[0, 1]\n",
        "\n",
        "# Print the results\n",
        "print(\"Population Covariance between X and Y:\", cov_XY_population)\n",
        "print(\"Sample Covariance between X and Y:\", cov_XY_sample)"
      ],
      "metadata": {
        "id": "zTUdWp2Jhf6D",
        "colab": {
          "base_uri": "https://localhost:8080/"
        },
        "outputId": "a6bdee8b-cb22-4c30-a104-8f2536b1797f"
      },
      "execution_count": null,
      "outputs": [
        {
          "output_type": "stream",
          "name": "stdout",
          "text": [
            "Population Covariance between X and Y: -2.0\n",
            "Sample Covariance between X and Y: -2.5\n"
          ]
        }
      ]
    },
    {
      "cell_type": "markdown",
      "source": [
        "### **Pearson correlation**\n",
        "\n",
        "<img src=https://lh6.googleusercontent.com/NfO8TEV09GVqHRgP2pvnbaX6xQx9ImUrxzXAyKNBXI6hzaYntDXV2S4rUL5_9-XgWVUZt9yZ4jICcWp20JNvJtbgsA22bqhbpebZhJG2DeQvGcOzvk1rHZB-jSTGMKYp8kHjeVxkPydEvkrmtA alt=\"Nature Image\" width=\"200\"/>\n",
        "\n",
        "Pearson's correlation coefficient, is a measure of the linear relationship between two variables. It quantifies the strength and direction of a linear association between two continuous variables.\n",
        "\n",
        "Pearson correlation coefficient values range from -1 to 1.\n",
        "\n",
        "r=1 indicates a perfect positive linear relationship.\n",
        "\n",
        "r=−1 indicates a perfect negative linear relationship.\n",
        "\n",
        "r=0 indicates no linear relationship.\n",
        "\n",
        "\n"
      ],
      "metadata": {
        "id": "1cjzLbncBAuc"
      }
    },
    {
      "cell_type": "code",
      "source": [
        "import numpy as np\n",
        "\n",
        "# Example data for two variables X and Y\n",
        "X = np.array([1, 2, 3, 4, 5])\n",
        "Y = np.array([5, 4, 3, 2, 1])\n",
        "\n",
        "correlation_matrix = np.corrcoef(X, Y)\n",
        "\n",
        "# Extract the Pearson correlation coefficient between X and Y\n",
        "pearson_correlation = correlation_matrix[0, 1]\n",
        "\n",
        "# Print the result\n",
        "print(\"Pearson Correlation Coefficient between X and Y:\", pearson_correlation)\n",
        "\n"
      ],
      "metadata": {
        "colab": {
          "base_uri": "https://localhost:8080/"
        },
        "id": "FB1IVgZcAABL",
        "outputId": "dcf31637-5d46-46ba-ed49-d57d1a83f809"
      },
      "execution_count": null,
      "outputs": [
        {
          "output_type": "stream",
          "name": "stdout",
          "text": [
            "Pearson Correlation Coefficient between X and Y: -0.9999999999999999\n"
          ]
        }
      ]
    },
    {
      "cell_type": "markdown",
      "source": [
        "### **Why use N for population and N-1 for sample**\n",
        "\n",
        "related to degrees of freedom\n",
        "\n",
        "to reduce bias\n",
        "\n",
        "\n",
        "For a sample dataset with\n",
        "�\n",
        "n data points, we use\n",
        "�\n",
        "−\n",
        "1\n",
        "n−1 in the denominator. This adjustment accounts for the fact that we are estimating the population mean (\n",
        "�\n",
        "μ) using the sample mean (\n",
        "�\n",
        "ˉ\n",
        "X\n",
        "ˉ\n",
        " ). The constraint introduced by the requirement that the sum of deviations from the sample mean must equal zero reduces the degrees of freedom by one."
      ],
      "metadata": {
        "id": "frU1U6IsAf52"
      }
    }
  ]
}